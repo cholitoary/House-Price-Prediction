{
 "cells": [
  {
   "cell_type": "code",
   "execution_count": 1,
   "id": "276e2526",
   "metadata": {
    "_cell_guid": "b1076dfc-b9ad-4769-8c92-a6c4dae69d19",
    "_uuid": "8f2839f25d086af736a60e9eeb907d3b93b6e0e5",
    "execution": {
     "iopub.execute_input": "2023-06-27T02:32:25.397875Z",
     "iopub.status.busy": "2023-06-27T02:32:25.397544Z",
     "iopub.status.idle": "2023-06-27T02:32:26.382773Z",
     "shell.execute_reply": "2023-06-27T02:32:26.381284Z"
    },
    "papermill": {
     "duration": 0.997111,
     "end_time": "2023-06-27T02:32:26.384740",
     "exception": false,
     "start_time": "2023-06-27T02:32:25.387629",
     "status": "completed"
    },
    "tags": []
   },
   "outputs": [
    {
     "name": "stdout",
     "output_type": "stream",
     "text": [
      "/kaggle/input/house-prices-advanced-regression-techniques/sample_submission.csv\n",
      "/kaggle/input/house-prices-advanced-regression-techniques/data_description.txt\n",
      "/kaggle/input/house-prices-advanced-regression-techniques/train.csv\n",
      "/kaggle/input/house-prices-advanced-regression-techniques/test.csv\n",
      "/kaggle/input/data-processing-in-house-price/X_test.csv\n",
      "/kaggle/input/data-processing-in-house-price/y_train.csv\n",
      "/kaggle/input/data-processing-in-house-price/X_train.csv\n",
      "/kaggle/input/data-processing-in-house-price/__results__.html\n",
      "/kaggle/input/data-processing-in-house-price/__notebook__.ipynb\n",
      "/kaggle/input/data-processing-in-house-price/__output__.json\n",
      "/kaggle/input/data-processing-in-house-price/custom.css\n"
     ]
    }
   ],
   "source": [
    "import pandas as pd \n",
    "import numpy as np\n",
    "import scipy.stats as stats\n",
    "import warnings \n",
    "warnings.filterwarnings(\"ignore\")\n",
    "\n",
    "import math\n",
    "\n",
    "import os\n",
    "for dirname, _, filenames in os.walk('/kaggle/input'):\n",
    "    for filename in filenames:\n",
    "        print(os.path.join(dirname, filename))\n",
    "\n",
    "pd.set_option('display.max_columns',100)"
   ]
  },
  {
   "cell_type": "code",
   "execution_count": 2,
   "id": "cfccf093",
   "metadata": {
    "execution": {
     "iopub.execute_input": "2023-06-27T02:32:26.399506Z",
     "iopub.status.busy": "2023-06-27T02:32:26.399165Z",
     "iopub.status.idle": "2023-06-27T02:32:26.468106Z",
     "shell.execute_reply": "2023-06-27T02:32:26.466921Z"
    },
    "papermill": {
     "duration": 0.078796,
     "end_time": "2023-06-27T02:32:26.470453",
     "exception": false,
     "start_time": "2023-06-27T02:32:26.391657",
     "status": "completed"
    },
    "tags": []
   },
   "outputs": [],
   "source": [
    "train = pd.read_csv('/kaggle/input/house-prices-advanced-regression-techniques/train.csv')\n",
    "test = pd.read_csv('/kaggle/input/house-prices-advanced-regression-techniques/test.csv')\n",
    "sample_submission = pd.read_csv('/kaggle/input/house-prices-advanced-regression-techniques/sample_submission.csv')"
   ]
  },
  {
   "cell_type": "code",
   "execution_count": 3,
   "id": "39117121",
   "metadata": {
    "execution": {
     "iopub.execute_input": "2023-06-27T02:32:26.485129Z",
     "iopub.status.busy": "2023-06-27T02:32:26.484827Z",
     "iopub.status.idle": "2023-06-27T02:32:26.577969Z",
     "shell.execute_reply": "2023-06-27T02:32:26.576569Z"
    },
    "papermill": {
     "duration": 0.102902,
     "end_time": "2023-06-27T02:32:26.580281",
     "exception": false,
     "start_time": "2023-06-27T02:32:26.477379",
     "status": "completed"
    },
    "tags": []
   },
   "outputs": [],
   "source": [
    "X_train = pd.read_csv('/kaggle/input/data-processing-in-house-price/X_train.csv')\n",
    "X_test = pd.read_csv('/kaggle/input/data-processing-in-house-price/X_test.csv')\n",
    "y_train = np.ravel(pd.read_csv('/kaggle/input/data-processing-in-house-price/y_train.csv'))"
   ]
  },
  {
   "cell_type": "code",
   "execution_count": 4,
   "id": "2938fed5",
   "metadata": {
    "execution": {
     "iopub.execute_input": "2023-06-27T02:32:26.596436Z",
     "iopub.status.busy": "2023-06-27T02:32:26.595409Z",
     "iopub.status.idle": "2023-06-27T02:32:26.841568Z",
     "shell.execute_reply": "2023-06-27T02:32:26.840582Z"
    },
    "papermill": {
     "duration": 0.25665,
     "end_time": "2023-06-27T02:32:26.843929",
     "exception": false,
     "start_time": "2023-06-27T02:32:26.587279",
     "status": "completed"
    },
    "tags": []
   },
   "outputs": [],
   "source": [
    "from sklearn.model_selection import train_test_split\n",
    "X_train, X_val, y_train, y_val = train_test_split(X_train, y_train, test_size=0.20, random_state=42)"
   ]
  },
  {
   "cell_type": "markdown",
   "id": "b881a668",
   "metadata": {
    "papermill": {
     "duration": 0.006198,
     "end_time": "2023-06-27T02:32:26.856968",
     "exception": false,
     "start_time": "2023-06-27T02:32:26.850770",
     "status": "completed"
    },
    "tags": []
   },
   "source": [
    "# Random Forest"
   ]
  },
  {
   "cell_type": "code",
   "execution_count": 5,
   "id": "d3197781",
   "metadata": {
    "execution": {
     "iopub.execute_input": "2023-06-27T02:32:26.871138Z",
     "iopub.status.busy": "2023-06-27T02:32:26.870809Z",
     "iopub.status.idle": "2023-06-27T02:32:27.212756Z",
     "shell.execute_reply": "2023-06-27T02:32:27.211334Z"
    },
    "papermill": {
     "duration": 0.352493,
     "end_time": "2023-06-27T02:32:27.215866",
     "exception": false,
     "start_time": "2023-06-27T02:32:26.863373",
     "status": "completed"
    },
    "tags": []
   },
   "outputs": [],
   "source": [
    "from sklearn.ensemble import RandomForestRegressor\n",
    "from sklearn.metrics import r2_score, mean_absolute_error, mean_squared_error\n",
    "from sklearn.model_selection import GridSearchCV"
   ]
  },
  {
   "cell_type": "code",
   "execution_count": 6,
   "id": "e49f8020",
   "metadata": {
    "execution": {
     "iopub.execute_input": "2023-06-27T02:32:27.234518Z",
     "iopub.status.busy": "2023-06-27T02:32:27.233895Z",
     "iopub.status.idle": "2023-06-27T02:32:27.237997Z",
     "shell.execute_reply": "2023-06-27T02:32:27.236933Z"
    },
    "papermill": {
     "duration": 0.016741,
     "end_time": "2023-06-27T02:32:27.240530",
     "exception": false,
     "start_time": "2023-06-27T02:32:27.223789",
     "status": "completed"
    },
    "tags": []
   },
   "outputs": [],
   "source": [
    "#model = RandomForestRegressor(random_state=87)\n",
    "#parameters = {'n_estimators':[100, 200, 300],\n",
    "#             'max_depth':range(1,16)\n",
    "    \n",
    "#}\n",
    "#clf = GridSearchCV(model, parameters, cv=5, n_jobs=-1, scoring='r2')\n",
    "#clf.fit(X_train,np.ravel(y_train))"
   ]
  },
  {
   "cell_type": "code",
   "execution_count": 7,
   "id": "879f0449",
   "metadata": {
    "execution": {
     "iopub.execute_input": "2023-06-27T02:32:27.261347Z",
     "iopub.status.busy": "2023-06-27T02:32:27.260300Z",
     "iopub.status.idle": "2023-06-27T02:32:27.264755Z",
     "shell.execute_reply": "2023-06-27T02:32:27.263946Z"
    },
    "papermill": {
     "duration": 0.016493,
     "end_time": "2023-06-27T02:32:27.266745",
     "exception": false,
     "start_time": "2023-06-27T02:32:27.250252",
     "status": "completed"
    },
    "tags": []
   },
   "outputs": [],
   "source": [
    "#clf.best_params_"
   ]
  },
  {
   "cell_type": "code",
   "execution_count": 8,
   "id": "f6165103",
   "metadata": {
    "execution": {
     "iopub.execute_input": "2023-06-27T02:32:27.282730Z",
     "iopub.status.busy": "2023-06-27T02:32:27.282372Z",
     "iopub.status.idle": "2023-06-27T02:32:33.865499Z",
     "shell.execute_reply": "2023-06-27T02:32:33.864570Z"
    },
    "papermill": {
     "duration": 6.592661,
     "end_time": "2023-06-27T02:32:33.867403",
     "exception": false,
     "start_time": "2023-06-27T02:32:27.274742",
     "status": "completed"
    },
    "tags": []
   },
   "outputs": [
    {
     "data": {
      "text/html": [
       "<style>#sk-container-id-1 {color: black;background-color: white;}#sk-container-id-1 pre{padding: 0;}#sk-container-id-1 div.sk-toggleable {background-color: white;}#sk-container-id-1 label.sk-toggleable__label {cursor: pointer;display: block;width: 100%;margin-bottom: 0;padding: 0.3em;box-sizing: border-box;text-align: center;}#sk-container-id-1 label.sk-toggleable__label-arrow:before {content: \"▸\";float: left;margin-right: 0.25em;color: #696969;}#sk-container-id-1 label.sk-toggleable__label-arrow:hover:before {color: black;}#sk-container-id-1 div.sk-estimator:hover label.sk-toggleable__label-arrow:before {color: black;}#sk-container-id-1 div.sk-toggleable__content {max-height: 0;max-width: 0;overflow: hidden;text-align: left;background-color: #f0f8ff;}#sk-container-id-1 div.sk-toggleable__content pre {margin: 0.2em;color: black;border-radius: 0.25em;background-color: #f0f8ff;}#sk-container-id-1 input.sk-toggleable__control:checked~div.sk-toggleable__content {max-height: 200px;max-width: 100%;overflow: auto;}#sk-container-id-1 input.sk-toggleable__control:checked~label.sk-toggleable__label-arrow:before {content: \"▾\";}#sk-container-id-1 div.sk-estimator input.sk-toggleable__control:checked~label.sk-toggleable__label {background-color: #d4ebff;}#sk-container-id-1 div.sk-label input.sk-toggleable__control:checked~label.sk-toggleable__label {background-color: #d4ebff;}#sk-container-id-1 input.sk-hidden--visually {border: 0;clip: rect(1px 1px 1px 1px);clip: rect(1px, 1px, 1px, 1px);height: 1px;margin: -1px;overflow: hidden;padding: 0;position: absolute;width: 1px;}#sk-container-id-1 div.sk-estimator {font-family: monospace;background-color: #f0f8ff;border: 1px dotted black;border-radius: 0.25em;box-sizing: border-box;margin-bottom: 0.5em;}#sk-container-id-1 div.sk-estimator:hover {background-color: #d4ebff;}#sk-container-id-1 div.sk-parallel-item::after {content: \"\";width: 100%;border-bottom: 1px solid gray;flex-grow: 1;}#sk-container-id-1 div.sk-label:hover label.sk-toggleable__label {background-color: #d4ebff;}#sk-container-id-1 div.sk-serial::before {content: \"\";position: absolute;border-left: 1px solid gray;box-sizing: border-box;top: 0;bottom: 0;left: 50%;z-index: 0;}#sk-container-id-1 div.sk-serial {display: flex;flex-direction: column;align-items: center;background-color: white;padding-right: 0.2em;padding-left: 0.2em;position: relative;}#sk-container-id-1 div.sk-item {position: relative;z-index: 1;}#sk-container-id-1 div.sk-parallel {display: flex;align-items: stretch;justify-content: center;background-color: white;position: relative;}#sk-container-id-1 div.sk-item::before, #sk-container-id-1 div.sk-parallel-item::before {content: \"\";position: absolute;border-left: 1px solid gray;box-sizing: border-box;top: 0;bottom: 0;left: 50%;z-index: -1;}#sk-container-id-1 div.sk-parallel-item {display: flex;flex-direction: column;z-index: 1;position: relative;background-color: white;}#sk-container-id-1 div.sk-parallel-item:first-child::after {align-self: flex-end;width: 50%;}#sk-container-id-1 div.sk-parallel-item:last-child::after {align-self: flex-start;width: 50%;}#sk-container-id-1 div.sk-parallel-item:only-child::after {width: 0;}#sk-container-id-1 div.sk-dashed-wrapped {border: 1px dashed gray;margin: 0 0.4em 0.5em 0.4em;box-sizing: border-box;padding-bottom: 0.4em;background-color: white;}#sk-container-id-1 div.sk-label label {font-family: monospace;font-weight: bold;display: inline-block;line-height: 1.2em;}#sk-container-id-1 div.sk-label-container {text-align: center;}#sk-container-id-1 div.sk-container {/* jupyter's `normalize.less` sets `[hidden] { display: none; }` but bootstrap.min.css set `[hidden] { display: none !important; }` so we also need the `!important` here to be able to override the default hidden behavior on the sphinx rendered scikit-learn.org. See: https://github.com/scikit-learn/scikit-learn/issues/21755 */display: inline-block !important;position: relative;}#sk-container-id-1 div.sk-text-repr-fallback {display: none;}</style><div id=\"sk-container-id-1\" class=\"sk-top-container\"><div class=\"sk-text-repr-fallback\"><pre>RandomForestRegressor(max_depth=12, n_estimators=300, random_state=87)</pre><b>In a Jupyter environment, please rerun this cell to show the HTML representation or trust the notebook. <br />On GitHub, the HTML representation is unable to render, please try loading this page with nbviewer.org.</b></div><div class=\"sk-container\" hidden><div class=\"sk-item\"><div class=\"sk-estimator sk-toggleable\"><input class=\"sk-toggleable__control sk-hidden--visually\" id=\"sk-estimator-id-1\" type=\"checkbox\" checked><label for=\"sk-estimator-id-1\" class=\"sk-toggleable__label sk-toggleable__label-arrow\">RandomForestRegressor</label><div class=\"sk-toggleable__content\"><pre>RandomForestRegressor(max_depth=12, n_estimators=300, random_state=87)</pre></div></div></div></div></div>"
      ],
      "text/plain": [
       "RandomForestRegressor(max_depth=12, n_estimators=300, random_state=87)"
      ]
     },
     "execution_count": 8,
     "metadata": {},
     "output_type": "execute_result"
    }
   ],
   "source": [
    "modelRF = RandomForestRegressor(random_state=87, n_estimators=300, max_depth=12)\n",
    "modelRF.fit(X_train, y_train)"
   ]
  },
  {
   "cell_type": "code",
   "execution_count": 9,
   "id": "f781a2cd",
   "metadata": {
    "execution": {
     "iopub.execute_input": "2023-06-27T02:32:33.882839Z",
     "iopub.status.busy": "2023-06-27T02:32:33.882132Z",
     "iopub.status.idle": "2023-06-27T02:32:33.927917Z",
     "shell.execute_reply": "2023-06-27T02:32:33.926776Z"
    },
    "papermill": {
     "duration": 0.055614,
     "end_time": "2023-06-27T02:32:33.929957",
     "exception": false,
     "start_time": "2023-06-27T02:32:33.874343",
     "status": "completed"
    },
    "tags": []
   },
   "outputs": [
    {
     "data": {
      "text/plain": [
       "0.8925206913286912"
      ]
     },
     "execution_count": 9,
     "metadata": {},
     "output_type": "execute_result"
    }
   ],
   "source": [
    "modelRF.score(X_val, y_val)"
   ]
  },
  {
   "cell_type": "code",
   "execution_count": 10,
   "id": "ae6b2440",
   "metadata": {
    "execution": {
     "iopub.execute_input": "2023-06-27T02:32:33.945642Z",
     "iopub.status.busy": "2023-06-27T02:32:33.945294Z",
     "iopub.status.idle": "2023-06-27T02:32:33.993089Z",
     "shell.execute_reply": "2023-06-27T02:32:33.991938Z"
    },
    "papermill": {
     "duration": 0.058109,
     "end_time": "2023-06-27T02:32:33.995283",
     "exception": false,
     "start_time": "2023-06-27T02:32:33.937174",
     "status": "completed"
    },
    "tags": []
   },
   "outputs": [
    {
     "name": "stdout",
     "output_type": "stream",
     "text": [
      "R2 Score: 0.8925206913286912\n",
      "Mean Absolude Error: 17348.19696000662\n",
      "Mean Square Error: 824401358.0318948\n",
      "Root Mean Square Error: 28712.390322505278\n"
     ]
    }
   ],
   "source": [
    "y_pred=modelRF.predict(X_val)\n",
    "print('R2 Score:',r2_score(y_true=y_val, y_pred=y_pred))\n",
    "print('Mean Absolude Error:',mean_absolute_error(y_true=y_val, y_pred=y_pred))\n",
    "print('Mean Square Error:',mean_squared_error(y_true=y_val, y_pred=y_pred))\n",
    "print('Root Mean Square Error:',mean_squared_error(y_true=y_val, y_pred=y_pred, squared=False))"
   ]
  },
  {
   "cell_type": "code",
   "execution_count": 11,
   "id": "57f14e16",
   "metadata": {
    "execution": {
     "iopub.execute_input": "2023-06-27T02:32:34.011019Z",
     "iopub.status.busy": "2023-06-27T02:32:34.010686Z",
     "iopub.status.idle": "2023-06-27T02:32:34.109964Z",
     "shell.execute_reply": "2023-06-27T02:32:34.108688Z"
    },
    "papermill": {
     "duration": 0.110137,
     "end_time": "2023-06-27T02:32:34.112546",
     "exception": false,
     "start_time": "2023-06-27T02:32:34.002409",
     "status": "completed"
    },
    "tags": []
   },
   "outputs": [
    {
     "name": "stdout",
     "output_type": "stream",
     "text": [
      "        Id      SalePrice\n",
      "0     1461  128028.479957\n",
      "1     1462  153783.969571\n",
      "2     1463  177936.492306\n",
      "3     1464  184189.353165\n",
      "4     1465  207173.155860\n",
      "...    ...            ...\n",
      "1454  2915   90294.993687\n",
      "1455  2916   91439.460941\n",
      "1456  2917  157358.591523\n",
      "1457  2918  116871.996302\n",
      "1458  2919  222797.234272\n",
      "\n",
      "[1459 rows x 2 columns]\n"
     ]
    }
   ],
   "source": [
    "sample_submission['Id'] = test.reset_index()['Id']\n",
    "sample_submission.SalePrice = modelRF.predict(X_test)\n",
    "sample_submission.set_index('Id').to_csv('submissionRF.csv')\n",
    "print(sample_submission)"
   ]
  },
  {
   "cell_type": "markdown",
   "id": "dd9fd90a",
   "metadata": {
    "papermill": {
     "duration": 0.006603,
     "end_time": "2023-06-27T02:32:34.126467",
     "exception": false,
     "start_time": "2023-06-27T02:32:34.119864",
     "status": "completed"
    },
    "tags": []
   },
   "source": [
    "# XGBoots Regressor"
   ]
  },
  {
   "cell_type": "code",
   "execution_count": 12,
   "id": "31661768",
   "metadata": {
    "execution": {
     "iopub.execute_input": "2023-06-27T02:32:34.141869Z",
     "iopub.status.busy": "2023-06-27T02:32:34.141481Z",
     "iopub.status.idle": "2023-06-27T02:32:34.305553Z",
     "shell.execute_reply": "2023-06-27T02:32:34.304325Z"
    },
    "papermill": {
     "duration": 0.174768,
     "end_time": "2023-06-27T02:32:34.308083",
     "exception": false,
     "start_time": "2023-06-27T02:32:34.133315",
     "status": "completed"
    },
    "tags": []
   },
   "outputs": [],
   "source": [
    "import xgboost as xgb"
   ]
  },
  {
   "cell_type": "code",
   "execution_count": 13,
   "id": "f390df25",
   "metadata": {
    "execution": {
     "iopub.execute_input": "2023-06-27T02:32:34.324000Z",
     "iopub.status.busy": "2023-06-27T02:32:34.323657Z",
     "iopub.status.idle": "2023-06-27T02:32:34.327430Z",
     "shell.execute_reply": "2023-06-27T02:32:34.326733Z"
    },
    "papermill": {
     "duration": 0.013745,
     "end_time": "2023-06-27T02:32:34.329266",
     "exception": false,
     "start_time": "2023-06-27T02:32:34.315521",
     "status": "completed"
    },
    "tags": []
   },
   "outputs": [],
   "source": [
    "#model = xgb.XGBRegressor(random_state=42, booster='gbtree')\n",
    "#parameters = {'learning_rate': [0.1, 0.01, 0.001],\n",
    "#              'max_depth': range(1,16),\n",
    "#              'n_estimators': [100, 200, 300,]\n",
    "#}\n",
    "#clf = GridSearchCV(model, parameters, cv=5, n_jobs=-1, scoring='r2')\n",
    "#clf.fit(X_train,y_train)"
   ]
  },
  {
   "cell_type": "code",
   "execution_count": 14,
   "id": "8d3d7672",
   "metadata": {
    "execution": {
     "iopub.execute_input": "2023-06-27T02:32:34.344918Z",
     "iopub.status.busy": "2023-06-27T02:32:34.344383Z",
     "iopub.status.idle": "2023-06-27T02:32:34.347578Z",
     "shell.execute_reply": "2023-06-27T02:32:34.346938Z"
    },
    "papermill": {
     "duration": 0.012932,
     "end_time": "2023-06-27T02:32:34.349116",
     "exception": false,
     "start_time": "2023-06-27T02:32:34.336184",
     "status": "completed"
    },
    "tags": []
   },
   "outputs": [],
   "source": [
    "#clf.best_params_"
   ]
  },
  {
   "cell_type": "code",
   "execution_count": 15,
   "id": "4dea3951",
   "metadata": {
    "execution": {
     "iopub.execute_input": "2023-06-27T02:32:34.364957Z",
     "iopub.status.busy": "2023-06-27T02:32:34.364436Z",
     "iopub.status.idle": "2023-06-27T02:32:35.712043Z",
     "shell.execute_reply": "2023-06-27T02:32:35.711212Z"
    },
    "papermill": {
     "duration": 1.357288,
     "end_time": "2023-06-27T02:32:35.713767",
     "exception": false,
     "start_time": "2023-06-27T02:32:34.356479",
     "status": "completed"
    },
    "tags": []
   },
   "outputs": [
    {
     "data": {
      "text/html": [
       "<style>#sk-container-id-2 {color: black;background-color: white;}#sk-container-id-2 pre{padding: 0;}#sk-container-id-2 div.sk-toggleable {background-color: white;}#sk-container-id-2 label.sk-toggleable__label {cursor: pointer;display: block;width: 100%;margin-bottom: 0;padding: 0.3em;box-sizing: border-box;text-align: center;}#sk-container-id-2 label.sk-toggleable__label-arrow:before {content: \"▸\";float: left;margin-right: 0.25em;color: #696969;}#sk-container-id-2 label.sk-toggleable__label-arrow:hover:before {color: black;}#sk-container-id-2 div.sk-estimator:hover label.sk-toggleable__label-arrow:before {color: black;}#sk-container-id-2 div.sk-toggleable__content {max-height: 0;max-width: 0;overflow: hidden;text-align: left;background-color: #f0f8ff;}#sk-container-id-2 div.sk-toggleable__content pre {margin: 0.2em;color: black;border-radius: 0.25em;background-color: #f0f8ff;}#sk-container-id-2 input.sk-toggleable__control:checked~div.sk-toggleable__content {max-height: 200px;max-width: 100%;overflow: auto;}#sk-container-id-2 input.sk-toggleable__control:checked~label.sk-toggleable__label-arrow:before {content: \"▾\";}#sk-container-id-2 div.sk-estimator input.sk-toggleable__control:checked~label.sk-toggleable__label {background-color: #d4ebff;}#sk-container-id-2 div.sk-label input.sk-toggleable__control:checked~label.sk-toggleable__label {background-color: #d4ebff;}#sk-container-id-2 input.sk-hidden--visually {border: 0;clip: rect(1px 1px 1px 1px);clip: rect(1px, 1px, 1px, 1px);height: 1px;margin: -1px;overflow: hidden;padding: 0;position: absolute;width: 1px;}#sk-container-id-2 div.sk-estimator {font-family: monospace;background-color: #f0f8ff;border: 1px dotted black;border-radius: 0.25em;box-sizing: border-box;margin-bottom: 0.5em;}#sk-container-id-2 div.sk-estimator:hover {background-color: #d4ebff;}#sk-container-id-2 div.sk-parallel-item::after {content: \"\";width: 100%;border-bottom: 1px solid gray;flex-grow: 1;}#sk-container-id-2 div.sk-label:hover label.sk-toggleable__label {background-color: #d4ebff;}#sk-container-id-2 div.sk-serial::before {content: \"\";position: absolute;border-left: 1px solid gray;box-sizing: border-box;top: 0;bottom: 0;left: 50%;z-index: 0;}#sk-container-id-2 div.sk-serial {display: flex;flex-direction: column;align-items: center;background-color: white;padding-right: 0.2em;padding-left: 0.2em;position: relative;}#sk-container-id-2 div.sk-item {position: relative;z-index: 1;}#sk-container-id-2 div.sk-parallel {display: flex;align-items: stretch;justify-content: center;background-color: white;position: relative;}#sk-container-id-2 div.sk-item::before, #sk-container-id-2 div.sk-parallel-item::before {content: \"\";position: absolute;border-left: 1px solid gray;box-sizing: border-box;top: 0;bottom: 0;left: 50%;z-index: -1;}#sk-container-id-2 div.sk-parallel-item {display: flex;flex-direction: column;z-index: 1;position: relative;background-color: white;}#sk-container-id-2 div.sk-parallel-item:first-child::after {align-self: flex-end;width: 50%;}#sk-container-id-2 div.sk-parallel-item:last-child::after {align-self: flex-start;width: 50%;}#sk-container-id-2 div.sk-parallel-item:only-child::after {width: 0;}#sk-container-id-2 div.sk-dashed-wrapped {border: 1px dashed gray;margin: 0 0.4em 0.5em 0.4em;box-sizing: border-box;padding-bottom: 0.4em;background-color: white;}#sk-container-id-2 div.sk-label label {font-family: monospace;font-weight: bold;display: inline-block;line-height: 1.2em;}#sk-container-id-2 div.sk-label-container {text-align: center;}#sk-container-id-2 div.sk-container {/* jupyter's `normalize.less` sets `[hidden] { display: none; }` but bootstrap.min.css set `[hidden] { display: none !important; }` so we also need the `!important` here to be able to override the default hidden behavior on the sphinx rendered scikit-learn.org. See: https://github.com/scikit-learn/scikit-learn/issues/21755 */display: inline-block !important;position: relative;}#sk-container-id-2 div.sk-text-repr-fallback {display: none;}</style><div id=\"sk-container-id-2\" class=\"sk-top-container\"><div class=\"sk-text-repr-fallback\"><pre>XGBRegressor(base_score=None, booster=&#x27;gbtree&#x27;, callbacks=None,\n",
       "             colsample_bylevel=None, colsample_bynode=None,\n",
       "             colsample_bytree=None, early_stopping_rounds=None,\n",
       "             enable_categorical=False, eval_metric=None, feature_types=None,\n",
       "             gamma=None, gpu_id=None, grow_policy=None, importance_type=None,\n",
       "             interaction_constraints=None, learning_rate=0.1, max_bin=None,\n",
       "             max_cat_threshold=None, max_cat_to_onehot=None,\n",
       "             max_delta_step=None, max_depth=3, max_leaves=None,\n",
       "             min_child_weight=None, missing=nan, monotone_constraints=None,\n",
       "             n_estimators=300, n_jobs=None, num_parallel_tree=None,\n",
       "             predictor=None, random_state=42, ...)</pre><b>In a Jupyter environment, please rerun this cell to show the HTML representation or trust the notebook. <br />On GitHub, the HTML representation is unable to render, please try loading this page with nbviewer.org.</b></div><div class=\"sk-container\" hidden><div class=\"sk-item\"><div class=\"sk-estimator sk-toggleable\"><input class=\"sk-toggleable__control sk-hidden--visually\" id=\"sk-estimator-id-2\" type=\"checkbox\" checked><label for=\"sk-estimator-id-2\" class=\"sk-toggleable__label sk-toggleable__label-arrow\">XGBRegressor</label><div class=\"sk-toggleable__content\"><pre>XGBRegressor(base_score=None, booster=&#x27;gbtree&#x27;, callbacks=None,\n",
       "             colsample_bylevel=None, colsample_bynode=None,\n",
       "             colsample_bytree=None, early_stopping_rounds=None,\n",
       "             enable_categorical=False, eval_metric=None, feature_types=None,\n",
       "             gamma=None, gpu_id=None, grow_policy=None, importance_type=None,\n",
       "             interaction_constraints=None, learning_rate=0.1, max_bin=None,\n",
       "             max_cat_threshold=None, max_cat_to_onehot=None,\n",
       "             max_delta_step=None, max_depth=3, max_leaves=None,\n",
       "             min_child_weight=None, missing=nan, monotone_constraints=None,\n",
       "             n_estimators=300, n_jobs=None, num_parallel_tree=None,\n",
       "             predictor=None, random_state=42, ...)</pre></div></div></div></div></div>"
      ],
      "text/plain": [
       "XGBRegressor(base_score=None, booster='gbtree', callbacks=None,\n",
       "             colsample_bylevel=None, colsample_bynode=None,\n",
       "             colsample_bytree=None, early_stopping_rounds=None,\n",
       "             enable_categorical=False, eval_metric=None, feature_types=None,\n",
       "             gamma=None, gpu_id=None, grow_policy=None, importance_type=None,\n",
       "             interaction_constraints=None, learning_rate=0.1, max_bin=None,\n",
       "             max_cat_threshold=None, max_cat_to_onehot=None,\n",
       "             max_delta_step=None, max_depth=3, max_leaves=None,\n",
       "             min_child_weight=None, missing=nan, monotone_constraints=None,\n",
       "             n_estimators=300, n_jobs=None, num_parallel_tree=None,\n",
       "             predictor=None, random_state=42, ...)"
      ]
     },
     "execution_count": 15,
     "metadata": {},
     "output_type": "execute_result"
    }
   ],
   "source": [
    "xgb_model = xgb.XGBRegressor(random_state=42, \n",
    "                             booster='gbtree',\n",
    "                             learning_rate=0.1,\n",
    "                             max_depth=3, \n",
    "                             n_estimators=300)\n",
    "xgb_model.fit(X_train, y_train)"
   ]
  },
  {
   "cell_type": "code",
   "execution_count": 16,
   "id": "33dc392f",
   "metadata": {
    "execution": {
     "iopub.execute_input": "2023-06-27T02:32:35.730101Z",
     "iopub.status.busy": "2023-06-27T02:32:35.729575Z",
     "iopub.status.idle": "2023-06-27T02:32:35.748361Z",
     "shell.execute_reply": "2023-06-27T02:32:35.747690Z"
    },
    "papermill": {
     "duration": 0.029354,
     "end_time": "2023-06-27T02:32:35.750465",
     "exception": false,
     "start_time": "2023-06-27T02:32:35.721111",
     "status": "completed"
    },
    "tags": []
   },
   "outputs": [
    {
     "data": {
      "text/plain": [
       "0.8904052500462469"
      ]
     },
     "execution_count": 16,
     "metadata": {},
     "output_type": "execute_result"
    }
   ],
   "source": [
    "xgb_model.score(X_val,y_val)"
   ]
  },
  {
   "cell_type": "code",
   "execution_count": 17,
   "id": "dcb9baf7",
   "metadata": {
    "execution": {
     "iopub.execute_input": "2023-06-27T02:32:35.767434Z",
     "iopub.status.busy": "2023-06-27T02:32:35.766711Z",
     "iopub.status.idle": "2023-06-27T02:32:35.784264Z",
     "shell.execute_reply": "2023-06-27T02:32:35.783267Z"
    },
    "papermill": {
     "duration": 0.027877,
     "end_time": "2023-06-27T02:32:35.785889",
     "exception": false,
     "start_time": "2023-06-27T02:32:35.758012",
     "status": "completed"
    },
    "tags": []
   },
   "outputs": [
    {
     "name": "stdout",
     "output_type": "stream",
     "text": [
      "R2 Score: 0.8904052500462469\n",
      "Mean Absolude Error: 16225.85652557791\n",
      "Mean Square Error: 840627482.7403926\n",
      "Root Mean Square Error: 28993.576577241944\n"
     ]
    }
   ],
   "source": [
    "y_pred=xgb_model.predict(X_val)\n",
    "print('R2 Score:',r2_score(y_true=y_val, y_pred=y_pred))\n",
    "print('Mean Absolude Error:',mean_absolute_error(y_true=y_val, y_pred=y_pred))\n",
    "print('Mean Square Error:',mean_squared_error(y_true=y_val, y_pred=y_pred))\n",
    "print('Root Mean Square Error:',mean_squared_error(y_true=y_val, y_pred=y_pred, squared=False))"
   ]
  },
  {
   "cell_type": "code",
   "execution_count": 18,
   "id": "af27d97f",
   "metadata": {
    "execution": {
     "iopub.execute_input": "2023-06-27T02:32:35.802079Z",
     "iopub.status.busy": "2023-06-27T02:32:35.801534Z",
     "iopub.status.idle": "2023-06-27T02:32:35.828320Z",
     "shell.execute_reply": "2023-06-27T02:32:35.827074Z"
    },
    "papermill": {
     "duration": 0.03691,
     "end_time": "2023-06-27T02:32:35.830250",
     "exception": false,
     "start_time": "2023-06-27T02:32:35.793340",
     "status": "completed"
    },
    "tags": []
   },
   "outputs": [
    {
     "name": "stdout",
     "output_type": "stream",
     "text": [
      "        Id      SalePrice\n",
      "0     1461  127792.054688\n",
      "1     1462  155512.859375\n",
      "2     1463  186364.453125\n",
      "3     1464  194142.812500\n",
      "4     1465  192923.843750\n",
      "...    ...            ...\n",
      "1454  2915   91065.929688\n",
      "1455  2916   72840.570312\n",
      "1456  2917  157698.656250\n",
      "1457  2918  123100.023438\n",
      "1458  2919  227269.593750\n",
      "\n",
      "[1459 rows x 2 columns]\n"
     ]
    }
   ],
   "source": [
    "sample_submission['Id'] = test.reset_index()['Id']\n",
    "sample_submission.SalePrice = xgb_model.predict(X_test)\n",
    "sample_submission.set_index('Id').to_csv('submissionXGB.csv')\n",
    "print(sample_submission)"
   ]
  },
  {
   "cell_type": "markdown",
   "id": "86a18fad",
   "metadata": {
    "papermill": {
     "duration": 0.007045,
     "end_time": "2023-06-27T02:32:35.844714",
     "exception": false,
     "start_time": "2023-06-27T02:32:35.837669",
     "status": "completed"
    },
    "tags": []
   },
   "source": [
    "# LightGBM"
   ]
  },
  {
   "cell_type": "code",
   "execution_count": 19,
   "id": "feb50cd4",
   "metadata": {
    "execution": {
     "iopub.execute_input": "2023-06-27T02:32:35.860845Z",
     "iopub.status.busy": "2023-06-27T02:32:35.860277Z",
     "iopub.status.idle": "2023-06-27T02:32:36.700273Z",
     "shell.execute_reply": "2023-06-27T02:32:36.699294Z"
    },
    "papermill": {
     "duration": 0.85078,
     "end_time": "2023-06-27T02:32:36.702632",
     "exception": false,
     "start_time": "2023-06-27T02:32:35.851852",
     "status": "completed"
    },
    "tags": []
   },
   "outputs": [],
   "source": [
    "import lightgbm as lgb"
   ]
  },
  {
   "cell_type": "code",
   "execution_count": 20,
   "id": "02756cfa",
   "metadata": {
    "execution": {
     "iopub.execute_input": "2023-06-27T02:32:36.719334Z",
     "iopub.status.busy": "2023-06-27T02:32:36.718958Z",
     "iopub.status.idle": "2023-06-27T02:32:36.724009Z",
     "shell.execute_reply": "2023-06-27T02:32:36.722712Z"
    },
    "papermill": {
     "duration": 0.015119,
     "end_time": "2023-06-27T02:32:36.725759",
     "exception": false,
     "start_time": "2023-06-27T02:32:36.710640",
     "status": "completed"
    },
    "tags": []
   },
   "outputs": [],
   "source": [
    "#model = lgb.LGBMRegressor(random_state=42)\n",
    "#parameters = {'learning_rate': [0.1, 0.01, 0.001],\n",
    "#              'max_depth': range(1,16),\n",
    "#              'n_estimators': [100, 200, 300],\n",
    "#              'num_leaves':[20,30,40,50]\n",
    "#}\n",
    "#clf = GridSearchCV(model, parameters, cv=5, n_jobs=-1, scoring='r2')\n",
    "#clf.fit(X_train,y_train)"
   ]
  },
  {
   "cell_type": "code",
   "execution_count": 21,
   "id": "283795b5",
   "metadata": {
    "execution": {
     "iopub.execute_input": "2023-06-27T02:32:36.742893Z",
     "iopub.status.busy": "2023-06-27T02:32:36.742602Z",
     "iopub.status.idle": "2023-06-27T02:32:36.747081Z",
     "shell.execute_reply": "2023-06-27T02:32:36.745943Z"
    },
    "papermill": {
     "duration": 0.014513,
     "end_time": "2023-06-27T02:32:36.748739",
     "exception": false,
     "start_time": "2023-06-27T02:32:36.734226",
     "status": "completed"
    },
    "tags": []
   },
   "outputs": [],
   "source": [
    "#clf.best_params_"
   ]
  },
  {
   "cell_type": "code",
   "execution_count": 22,
   "id": "a04dfa0c",
   "metadata": {
    "execution": {
     "iopub.execute_input": "2023-06-27T02:32:36.765266Z",
     "iopub.status.busy": "2023-06-27T02:32:36.764892Z",
     "iopub.status.idle": "2023-06-27T02:32:37.339196Z",
     "shell.execute_reply": "2023-06-27T02:32:37.338217Z"
    },
    "papermill": {
     "duration": 0.58477,
     "end_time": "2023-06-27T02:32:37.341255",
     "exception": false,
     "start_time": "2023-06-27T02:32:36.756485",
     "status": "completed"
    },
    "tags": []
   },
   "outputs": [
    {
     "data": {
      "text/html": [
       "<style>#sk-container-id-3 {color: black;background-color: white;}#sk-container-id-3 pre{padding: 0;}#sk-container-id-3 div.sk-toggleable {background-color: white;}#sk-container-id-3 label.sk-toggleable__label {cursor: pointer;display: block;width: 100%;margin-bottom: 0;padding: 0.3em;box-sizing: border-box;text-align: center;}#sk-container-id-3 label.sk-toggleable__label-arrow:before {content: \"▸\";float: left;margin-right: 0.25em;color: #696969;}#sk-container-id-3 label.sk-toggleable__label-arrow:hover:before {color: black;}#sk-container-id-3 div.sk-estimator:hover label.sk-toggleable__label-arrow:before {color: black;}#sk-container-id-3 div.sk-toggleable__content {max-height: 0;max-width: 0;overflow: hidden;text-align: left;background-color: #f0f8ff;}#sk-container-id-3 div.sk-toggleable__content pre {margin: 0.2em;color: black;border-radius: 0.25em;background-color: #f0f8ff;}#sk-container-id-3 input.sk-toggleable__control:checked~div.sk-toggleable__content {max-height: 200px;max-width: 100%;overflow: auto;}#sk-container-id-3 input.sk-toggleable__control:checked~label.sk-toggleable__label-arrow:before {content: \"▾\";}#sk-container-id-3 div.sk-estimator input.sk-toggleable__control:checked~label.sk-toggleable__label {background-color: #d4ebff;}#sk-container-id-3 div.sk-label input.sk-toggleable__control:checked~label.sk-toggleable__label {background-color: #d4ebff;}#sk-container-id-3 input.sk-hidden--visually {border: 0;clip: rect(1px 1px 1px 1px);clip: rect(1px, 1px, 1px, 1px);height: 1px;margin: -1px;overflow: hidden;padding: 0;position: absolute;width: 1px;}#sk-container-id-3 div.sk-estimator {font-family: monospace;background-color: #f0f8ff;border: 1px dotted black;border-radius: 0.25em;box-sizing: border-box;margin-bottom: 0.5em;}#sk-container-id-3 div.sk-estimator:hover {background-color: #d4ebff;}#sk-container-id-3 div.sk-parallel-item::after {content: \"\";width: 100%;border-bottom: 1px solid gray;flex-grow: 1;}#sk-container-id-3 div.sk-label:hover label.sk-toggleable__label {background-color: #d4ebff;}#sk-container-id-3 div.sk-serial::before {content: \"\";position: absolute;border-left: 1px solid gray;box-sizing: border-box;top: 0;bottom: 0;left: 50%;z-index: 0;}#sk-container-id-3 div.sk-serial {display: flex;flex-direction: column;align-items: center;background-color: white;padding-right: 0.2em;padding-left: 0.2em;position: relative;}#sk-container-id-3 div.sk-item {position: relative;z-index: 1;}#sk-container-id-3 div.sk-parallel {display: flex;align-items: stretch;justify-content: center;background-color: white;position: relative;}#sk-container-id-3 div.sk-item::before, #sk-container-id-3 div.sk-parallel-item::before {content: \"\";position: absolute;border-left: 1px solid gray;box-sizing: border-box;top: 0;bottom: 0;left: 50%;z-index: -1;}#sk-container-id-3 div.sk-parallel-item {display: flex;flex-direction: column;z-index: 1;position: relative;background-color: white;}#sk-container-id-3 div.sk-parallel-item:first-child::after {align-self: flex-end;width: 50%;}#sk-container-id-3 div.sk-parallel-item:last-child::after {align-self: flex-start;width: 50%;}#sk-container-id-3 div.sk-parallel-item:only-child::after {width: 0;}#sk-container-id-3 div.sk-dashed-wrapped {border: 1px dashed gray;margin: 0 0.4em 0.5em 0.4em;box-sizing: border-box;padding-bottom: 0.4em;background-color: white;}#sk-container-id-3 div.sk-label label {font-family: monospace;font-weight: bold;display: inline-block;line-height: 1.2em;}#sk-container-id-3 div.sk-label-container {text-align: center;}#sk-container-id-3 div.sk-container {/* jupyter's `normalize.less` sets `[hidden] { display: none; }` but bootstrap.min.css set `[hidden] { display: none !important; }` so we also need the `!important` here to be able to override the default hidden behavior on the sphinx rendered scikit-learn.org. See: https://github.com/scikit-learn/scikit-learn/issues/21755 */display: inline-block !important;position: relative;}#sk-container-id-3 div.sk-text-repr-fallback {display: none;}</style><div id=\"sk-container-id-3\" class=\"sk-top-container\"><div class=\"sk-text-repr-fallback\"><pre>LGBMRegressor(max_depth=3, n_estimators=300, num_leaves=20, random_state=42)</pre><b>In a Jupyter environment, please rerun this cell to show the HTML representation or trust the notebook. <br />On GitHub, the HTML representation is unable to render, please try loading this page with nbviewer.org.</b></div><div class=\"sk-container\" hidden><div class=\"sk-item\"><div class=\"sk-estimator sk-toggleable\"><input class=\"sk-toggleable__control sk-hidden--visually\" id=\"sk-estimator-id-3\" type=\"checkbox\" checked><label for=\"sk-estimator-id-3\" class=\"sk-toggleable__label sk-toggleable__label-arrow\">LGBMRegressor</label><div class=\"sk-toggleable__content\"><pre>LGBMRegressor(max_depth=3, n_estimators=300, num_leaves=20, random_state=42)</pre></div></div></div></div></div>"
      ],
      "text/plain": [
       "LGBMRegressor(max_depth=3, n_estimators=300, num_leaves=20, random_state=42)"
      ]
     },
     "execution_count": 22,
     "metadata": {},
     "output_type": "execute_result"
    }
   ],
   "source": [
    "lgb_model = lgb.LGBMRegressor(random_state=42,\n",
    "                             learning_rate=0.1,\n",
    "                             max_depth=3, \n",
    "                             n_estimators=300,\n",
    "                             num_leaves=20\n",
    "                            )\n",
    "lgb_model.fit(X_train, y_train)"
   ]
  },
  {
   "cell_type": "code",
   "execution_count": 23,
   "id": "93642e90",
   "metadata": {
    "execution": {
     "iopub.execute_input": "2023-06-27T02:32:37.357804Z",
     "iopub.status.busy": "2023-06-27T02:32:37.357473Z",
     "iopub.status.idle": "2023-06-27T02:32:37.368008Z",
     "shell.execute_reply": "2023-06-27T02:32:37.367300Z"
    },
    "papermill": {
     "duration": 0.020723,
     "end_time": "2023-06-27T02:32:37.369635",
     "exception": false,
     "start_time": "2023-06-27T02:32:37.348912",
     "status": "completed"
    },
    "tags": []
   },
   "outputs": [
    {
     "data": {
      "text/plain": [
       "0.8862081631198647"
      ]
     },
     "execution_count": 23,
     "metadata": {},
     "output_type": "execute_result"
    }
   ],
   "source": [
    "lgb_model.score(X_val,y_val)"
   ]
  },
  {
   "cell_type": "code",
   "execution_count": 24,
   "id": "fbf515ba",
   "metadata": {
    "execution": {
     "iopub.execute_input": "2023-06-27T02:32:37.387034Z",
     "iopub.status.busy": "2023-06-27T02:32:37.386087Z",
     "iopub.status.idle": "2023-06-27T02:32:37.398224Z",
     "shell.execute_reply": "2023-06-27T02:32:37.396726Z"
    },
    "papermill": {
     "duration": 0.023266,
     "end_time": "2023-06-27T02:32:37.400587",
     "exception": false,
     "start_time": "2023-06-27T02:32:37.377321",
     "status": "completed"
    },
    "tags": []
   },
   "outputs": [
    {
     "name": "stdout",
     "output_type": "stream",
     "text": [
      "R2 Score: 0.8862081631198647\n",
      "Mean Absolude Error: 16903.049340521135\n",
      "Mean Square Error: 872820508.5856643\n",
      "Root Mean Square Error: 29543.53581725898\n"
     ]
    }
   ],
   "source": [
    "y_pred=lgb_model.predict(X_val)\n",
    "print('R2 Score:',r2_score(y_true=y_val, y_pred=y_pred))\n",
    "print('Mean Absolude Error:',mean_absolute_error(y_true=y_val, y_pred=y_pred))\n",
    "print('Mean Square Error:',mean_squared_error(y_true=y_val, y_pred=y_pred))\n",
    "print('Root Mean Square Error:',mean_squared_error(y_true=y_val, y_pred=y_pred, squared=False))"
   ]
  },
  {
   "cell_type": "code",
   "execution_count": 25,
   "id": "5567a2aa",
   "metadata": {
    "execution": {
     "iopub.execute_input": "2023-06-27T02:32:37.417442Z",
     "iopub.status.busy": "2023-06-27T02:32:37.417057Z",
     "iopub.status.idle": "2023-06-27T02:32:37.442942Z",
     "shell.execute_reply": "2023-06-27T02:32:37.441950Z"
    },
    "papermill": {
     "duration": 0.036231,
     "end_time": "2023-06-27T02:32:37.444765",
     "exception": false,
     "start_time": "2023-06-27T02:32:37.408534",
     "status": "completed"
    },
    "tags": []
   },
   "outputs": [
    {
     "name": "stdout",
     "output_type": "stream",
     "text": [
      "        Id      SalePrice\n",
      "0     1461  128538.091613\n",
      "1     1462  162277.043050\n",
      "2     1463  186843.747520\n",
      "3     1464  193603.909122\n",
      "4     1465  199351.513934\n",
      "...    ...            ...\n",
      "1454  2915   82899.398904\n",
      "1455  2916   76280.367953\n",
      "1456  2917  162774.217857\n",
      "1457  2918  117480.401791\n",
      "1458  2919  203648.980793\n",
      "\n",
      "[1459 rows x 2 columns]\n"
     ]
    }
   ],
   "source": [
    "sample_submission['Id'] = test.reset_index()['Id']\n",
    "sample_submission.SalePrice = lgb_model.predict(X_test)\n",
    "sample_submission.set_index('Id').to_csv('submissionLGB.csv')\n",
    "print(sample_submission)"
   ]
  },
  {
   "cell_type": "markdown",
   "id": "65f91f93",
   "metadata": {
    "papermill": {
     "duration": 0.007846,
     "end_time": "2023-06-27T02:32:37.460475",
     "exception": false,
     "start_time": "2023-06-27T02:32:37.452629",
     "status": "completed"
    },
    "tags": []
   },
   "source": [
    "# Neural Network"
   ]
  },
  {
   "cell_type": "code",
   "execution_count": 26,
   "id": "eb63a05e",
   "metadata": {
    "execution": {
     "iopub.execute_input": "2023-06-27T02:32:37.477580Z",
     "iopub.status.busy": "2023-06-27T02:32:37.477066Z",
     "iopub.status.idle": "2023-06-27T02:33:27.864560Z",
     "shell.execute_reply": "2023-06-27T02:33:27.863397Z"
    },
    "papermill": {
     "duration": 50.398561,
     "end_time": "2023-06-27T02:33:27.866512",
     "exception": false,
     "start_time": "2023-06-27T02:32:37.467951",
     "status": "completed"
    },
    "tags": []
   },
   "outputs": [
    {
     "name": "stdout",
     "output_type": "stream",
     "text": [
      "Epoch 1/150\n",
      "73/73 [==============================] - 2s 6ms/step - loss: 20743354368.0000 - r_square: -2.4778 - val_loss: 5851371008.0000 - val_r_square: 0.2371\n",
      "Epoch 2/150\n",
      "73/73 [==============================] - 0s 2ms/step - loss: 3902946560.0000 - r_square: 0.3456 - val_loss: 3443757568.0000 - val_r_square: 0.5510\n",
      "Epoch 3/150\n",
      "73/73 [==============================] - 0s 2ms/step - loss: 2938840832.0000 - r_square: 0.5073 - val_loss: 2992898816.0000 - val_r_square: 0.6098\n",
      "Epoch 4/150\n",
      "73/73 [==============================] - 0s 2ms/step - loss: 2554832384.0000 - r_square: 0.5717 - val_loss: 2540596736.0000 - val_r_square: 0.6688\n",
      "Epoch 5/150\n",
      "73/73 [==============================] - 0s 2ms/step - loss: 2333815808.0000 - r_square: 0.6087 - val_loss: 2218196736.0000 - val_r_square: 0.7108\n",
      "Epoch 6/150\n",
      "73/73 [==============================] - 0s 2ms/step - loss: 2139697920.0000 - r_square: 0.6413 - val_loss: 1994765440.0000 - val_r_square: 0.7399\n",
      "Epoch 7/150\n",
      "73/73 [==============================] - 0s 2ms/step - loss: 2237339136.0000 - r_square: 0.6249 - val_loss: 2055972992.0000 - val_r_square: 0.7320\n",
      "Epoch 8/150\n",
      "73/73 [==============================] - 0s 2ms/step - loss: 2059535488.0000 - r_square: 0.6547 - val_loss: 1775259136.0000 - val_r_square: 0.7686\n",
      "Epoch 9/150\n",
      "73/73 [==============================] - 0s 2ms/step - loss: 2139823616.0000 - r_square: 0.6412 - val_loss: 1840032128.0000 - val_r_square: 0.7601\n",
      "Epoch 10/150\n",
      "73/73 [==============================] - 0s 2ms/step - loss: 2005970048.0000 - r_square: 0.6637 - val_loss: 1708832384.0000 - val_r_square: 0.7772\n",
      "Epoch 11/150\n",
      "73/73 [==============================] - 0s 2ms/step - loss: 1927515008.0000 - r_square: 0.6768 - val_loss: 1623913856.0000 - val_r_square: 0.7883\n",
      "Epoch 12/150\n",
      "73/73 [==============================] - 0s 2ms/step - loss: 1955058048.0000 - r_square: 0.6722 - val_loss: 1599089280.0000 - val_r_square: 0.7915\n",
      "Epoch 13/150\n",
      "73/73 [==============================] - 0s 2ms/step - loss: 1866890752.0000 - r_square: 0.6870 - val_loss: 1589662592.0000 - val_r_square: 0.7928\n",
      "Epoch 14/150\n",
      "73/73 [==============================] - 0s 2ms/step - loss: 1850640128.0000 - r_square: 0.6897 - val_loss: 2012962048.0000 - val_r_square: 0.7376\n",
      "Epoch 15/150\n",
      "73/73 [==============================] - 0s 2ms/step - loss: 2065405440.0000 - r_square: 0.6537 - val_loss: 1604691072.0000 - val_r_square: 0.7908\n",
      "Epoch 16/150\n",
      "73/73 [==============================] - 0s 2ms/step - loss: 1863931648.0000 - r_square: 0.6875 - val_loss: 1602067840.0000 - val_r_square: 0.7911\n",
      "Epoch 17/150\n",
      "73/73 [==============================] - 0s 2ms/step - loss: 1890789504.0000 - r_square: 0.6830 - val_loss: 1709040640.0000 - val_r_square: 0.7772\n",
      "Epoch 18/150\n",
      "73/73 [==============================] - 0s 2ms/step - loss: 1912342784.0000 - r_square: 0.6794 - val_loss: 1559811328.0000 - val_r_square: 0.7966\n",
      "Epoch 19/150\n",
      "73/73 [==============================] - 0s 2ms/step - loss: 1886784384.0000 - r_square: 0.6837 - val_loss: 1795530240.0000 - val_r_square: 0.7659\n",
      "Epoch 20/150\n",
      "73/73 [==============================] - 0s 2ms/step - loss: 1797528832.0000 - r_square: 0.6986 - val_loss: 1635329536.0000 - val_r_square: 0.7868\n",
      "Epoch 21/150\n",
      "73/73 [==============================] - 0s 2ms/step - loss: 1834267648.0000 - r_square: 0.6925 - val_loss: 1668469248.0000 - val_r_square: 0.7825\n",
      "Epoch 22/150\n",
      "73/73 [==============================] - 0s 2ms/step - loss: 1807300224.0000 - r_square: 0.6970 - val_loss: 1542052480.0000 - val_r_square: 0.7990\n",
      "Epoch 23/150\n",
      "73/73 [==============================] - 0s 2ms/step - loss: 1752985600.0000 - r_square: 0.7061 - val_loss: 1560929792.0000 - val_r_square: 0.7965\n",
      "Epoch 24/150\n",
      "73/73 [==============================] - 0s 2ms/step - loss: 1657802112.0000 - r_square: 0.7221 - val_loss: 1965253120.0000 - val_r_square: 0.7438\n",
      "Epoch 25/150\n",
      "73/73 [==============================] - 0s 2ms/step - loss: 1695706496.0000 - r_square: 0.7157 - val_loss: 1512582784.0000 - val_r_square: 0.8028\n",
      "Epoch 26/150\n",
      "73/73 [==============================] - 0s 2ms/step - loss: 1660437504.0000 - r_square: 0.7216 - val_loss: 1419163904.0000 - val_r_square: 0.8150\n",
      "Epoch 27/150\n",
      "73/73 [==============================] - 0s 2ms/step - loss: 1587538432.0000 - r_square: 0.7338 - val_loss: 1412523136.0000 - val_r_square: 0.8158\n",
      "Epoch 28/150\n",
      "73/73 [==============================] - 0s 2ms/step - loss: 1552739328.0000 - r_square: 0.7397 - val_loss: 1408168192.0000 - val_r_square: 0.8164\n",
      "Epoch 29/150\n",
      "73/73 [==============================] - 0s 2ms/step - loss: 1511136768.0000 - r_square: 0.7466 - val_loss: 1360632448.0000 - val_r_square: 0.8226\n",
      "Epoch 30/150\n",
      "73/73 [==============================] - 0s 2ms/step - loss: 1642040320.0000 - r_square: 0.7247 - val_loss: 1360724992.0000 - val_r_square: 0.8226\n",
      "Epoch 31/150\n",
      "73/73 [==============================] - 0s 2ms/step - loss: 1487387008.0000 - r_square: 0.7506 - val_loss: 1346896896.0000 - val_r_square: 0.8244\n",
      "Epoch 32/150\n",
      "73/73 [==============================] - 0s 2ms/step - loss: 1683751424.0000 - r_square: 0.7177 - val_loss: 1380681216.0000 - val_r_square: 0.8200\n",
      "Epoch 33/150\n",
      "73/73 [==============================] - 0s 2ms/step - loss: 1467041408.0000 - r_square: 0.7540 - val_loss: 1345878656.0000 - val_r_square: 0.8245\n",
      "Epoch 34/150\n",
      "73/73 [==============================] - 0s 2ms/step - loss: 1487484416.0000 - r_square: 0.7506 - val_loss: 1468445824.0000 - val_r_square: 0.8086\n",
      "Epoch 35/150\n",
      "73/73 [==============================] - 0s 2ms/step - loss: 1454489856.0000 - r_square: 0.7561 - val_loss: 1313318272.0000 - val_r_square: 0.8288\n",
      "Epoch 36/150\n",
      "73/73 [==============================] - 0s 2ms/step - loss: 1393531264.0000 - r_square: 0.7664 - val_loss: 1241036544.0000 - val_r_square: 0.8382\n",
      "Epoch 37/150\n",
      "73/73 [==============================] - 0s 2ms/step - loss: 1447305472.0000 - r_square: 0.7573 - val_loss: 1307852544.0000 - val_r_square: 0.8295\n",
      "Epoch 38/150\n",
      "73/73 [==============================] - 0s 2ms/step - loss: 1305711744.0000 - r_square: 0.7811 - val_loss: 1213382656.0000 - val_r_square: 0.8418\n",
      "Epoch 39/150\n",
      "73/73 [==============================] - 0s 2ms/step - loss: 1358264064.0000 - r_square: 0.7723 - val_loss: 1300387456.0000 - val_r_square: 0.8305\n",
      "Epoch 40/150\n",
      "73/73 [==============================] - 0s 2ms/step - loss: 1328399616.0000 - r_square: 0.7773 - val_loss: 1362513664.0000 - val_r_square: 0.8224\n",
      "Epoch 41/150\n",
      "73/73 [==============================] - 0s 2ms/step - loss: 1267494912.0000 - r_square: 0.7875 - val_loss: 1661301632.0000 - val_r_square: 0.7834\n",
      "Epoch 42/150\n",
      "73/73 [==============================] - 0s 2ms/step - loss: 1373657728.0000 - r_square: 0.7697 - val_loss: 1234737152.0000 - val_r_square: 0.8390\n",
      "Epoch 43/150\n",
      "73/73 [==============================] - 0s 2ms/step - loss: 1234128128.0000 - r_square: 0.7931 - val_loss: 1266945536.0000 - val_r_square: 0.8348\n",
      "Epoch 44/150\n",
      "73/73 [==============================] - 0s 2ms/step - loss: 1264066816.0000 - r_square: 0.7881 - val_loss: 1219103744.0000 - val_r_square: 0.8411\n",
      "Epoch 45/150\n",
      "73/73 [==============================] - 0s 2ms/step - loss: 1202910208.0000 - r_square: 0.7983 - val_loss: 1187606528.0000 - val_r_square: 0.8452\n",
      "Epoch 46/150\n",
      "73/73 [==============================] - 0s 2ms/step - loss: 1179964032.0000 - r_square: 0.8022 - val_loss: 1210182784.0000 - val_r_square: 0.8422\n",
      "Epoch 47/150\n",
      "73/73 [==============================] - 0s 2ms/step - loss: 1175071488.0000 - r_square: 0.8030 - val_loss: 1182533120.0000 - val_r_square: 0.8458\n",
      "Epoch 48/150\n",
      "73/73 [==============================] - 0s 2ms/step - loss: 1155999488.0000 - r_square: 0.8062 - val_loss: 1164485120.0000 - val_r_square: 0.8482\n",
      "Epoch 49/150\n",
      "73/73 [==============================] - 0s 2ms/step - loss: 1107733760.0000 - r_square: 0.8143 - val_loss: 1172674944.0000 - val_r_square: 0.8471\n",
      "Epoch 50/150\n",
      "73/73 [==============================] - 0s 2ms/step - loss: 1127279616.0000 - r_square: 0.8110 - val_loss: 1179325568.0000 - val_r_square: 0.8462\n",
      "Epoch 51/150\n",
      "73/73 [==============================] - 0s 2ms/step - loss: 1115244800.0000 - r_square: 0.8130 - val_loss: 1261897856.0000 - val_r_square: 0.8355\n",
      "Epoch 52/150\n",
      "73/73 [==============================] - 0s 2ms/step - loss: 1095124480.0000 - r_square: 0.8164 - val_loss: 1274942976.0000 - val_r_square: 0.8338\n",
      "Epoch 53/150\n",
      "73/73 [==============================] - 0s 2ms/step - loss: 1195002624.0000 - r_square: 0.7996 - val_loss: 1189394176.0000 - val_r_square: 0.8449\n",
      "Epoch 54/150\n",
      "73/73 [==============================] - 0s 2ms/step - loss: 1220986624.0000 - r_square: 0.7953 - val_loss: 1195986176.0000 - val_r_square: 0.8441\n",
      "Epoch 55/150\n",
      "73/73 [==============================] - 0s 2ms/step - loss: 1122183424.0000 - r_square: 0.8119 - val_loss: 1203629824.0000 - val_r_square: 0.8431\n",
      "Epoch 56/150\n",
      "73/73 [==============================] - 0s 2ms/step - loss: 1036479104.0000 - r_square: 0.8262 - val_loss: 1173997056.0000 - val_r_square: 0.8469\n",
      "Epoch 57/150\n",
      "73/73 [==============================] - 0s 2ms/step - loss: 1080722432.0000 - r_square: 0.8188 - val_loss: 1115451648.0000 - val_r_square: 0.8546\n",
      "Epoch 58/150\n",
      "73/73 [==============================] - 0s 3ms/step - loss: 1133261696.0000 - r_square: 0.8100 - val_loss: 1129264896.0000 - val_r_square: 0.8528\n",
      "Epoch 59/150\n",
      "73/73 [==============================] - 0s 2ms/step - loss: 958366144.0000 - r_square: 0.8393 - val_loss: 1067994752.0000 - val_r_square: 0.8608\n",
      "Epoch 60/150\n",
      "73/73 [==============================] - 0s 2ms/step - loss: 1077384320.0000 - r_square: 0.8194 - val_loss: 1047966336.0000 - val_r_square: 0.8634\n",
      "Epoch 61/150\n",
      "73/73 [==============================] - 0s 2ms/step - loss: 924911616.0000 - r_square: 0.8449 - val_loss: 1110519808.0000 - val_r_square: 0.8552\n",
      "Epoch 62/150\n",
      "73/73 [==============================] - 0s 2ms/step - loss: 1039185408.0000 - r_square: 0.8258 - val_loss: 1140621184.0000 - val_r_square: 0.8513\n",
      "Epoch 63/150\n",
      "73/73 [==============================] - 0s 2ms/step - loss: 942459392.0000 - r_square: 0.8420 - val_loss: 1139923968.0000 - val_r_square: 0.8514\n",
      "Epoch 64/150\n",
      "73/73 [==============================] - 0s 2ms/step - loss: 926772608.0000 - r_square: 0.8446 - val_loss: 1062077632.0000 - val_r_square: 0.8615\n",
      "Epoch 65/150\n",
      "73/73 [==============================] - 0s 2ms/step - loss: 910870080.0000 - r_square: 0.8473 - val_loss: 1059863104.0000 - val_r_square: 0.8618\n",
      "Epoch 66/150\n",
      "73/73 [==============================] - 0s 2ms/step - loss: 921482368.0000 - r_square: 0.8455 - val_loss: 1302235008.0000 - val_r_square: 0.8302\n",
      "Epoch 67/150\n",
      "73/73 [==============================] - 0s 2ms/step - loss: 867023744.0000 - r_square: 0.8546 - val_loss: 1039017728.0000 - val_r_square: 0.8645\n",
      "Epoch 68/150\n",
      "73/73 [==============================] - 0s 2ms/step - loss: 891724928.0000 - r_square: 0.8505 - val_loss: 1141515904.0000 - val_r_square: 0.8512\n",
      "Epoch 69/150\n",
      "73/73 [==============================] - 0s 2ms/step - loss: 861538432.0000 - r_square: 0.8556 - val_loss: 1060256320.0000 - val_r_square: 0.8618\n",
      "Epoch 70/150\n",
      "73/73 [==============================] - 0s 2ms/step - loss: 874192704.0000 - r_square: 0.8534 - val_loss: 1040726272.0000 - val_r_square: 0.8643\n",
      "Epoch 71/150\n",
      "73/73 [==============================] - 0s 3ms/step - loss: 858569024.0000 - r_square: 0.8561 - val_loss: 974305664.0000 - val_r_square: 0.8730\n",
      "Epoch 72/150\n",
      "73/73 [==============================] - 0s 2ms/step - loss: 867745792.0000 - r_square: 0.8545 - val_loss: 964022080.0000 - val_r_square: 0.8743\n",
      "Epoch 73/150\n",
      "73/73 [==============================] - 0s 2ms/step - loss: 839262976.0000 - r_square: 0.8593 - val_loss: 1068173376.0000 - val_r_square: 0.8607\n",
      "Epoch 74/150\n",
      "73/73 [==============================] - 0s 2ms/step - loss: 804374272.0000 - r_square: 0.8651 - val_loss: 1265554048.0000 - val_r_square: 0.8350\n",
      "Epoch 75/150\n",
      "73/73 [==============================] - 0s 2ms/step - loss: 809924608.0000 - r_square: 0.8642 - val_loss: 941428928.0000 - val_r_square: 0.8773\n",
      "Epoch 76/150\n",
      "73/73 [==============================] - 0s 3ms/step - loss: 775417920.0000 - r_square: 0.8700 - val_loss: 1050077056.0000 - val_r_square: 0.8631\n",
      "Epoch 77/150\n",
      "73/73 [==============================] - 0s 2ms/step - loss: 758438784.0000 - r_square: 0.8728 - val_loss: 937031232.0000 - val_r_square: 0.8778\n",
      "Epoch 78/150\n",
      "73/73 [==============================] - 0s 2ms/step - loss: 765987136.0000 - r_square: 0.8716 - val_loss: 1035578240.0000 - val_r_square: 0.8650\n",
      "Epoch 79/150\n",
      "73/73 [==============================] - 0s 2ms/step - loss: 748200832.0000 - r_square: 0.8746 - val_loss: 1048374464.0000 - val_r_square: 0.8633\n",
      "Epoch 80/150\n",
      "73/73 [==============================] - 0s 2ms/step - loss: 803430912.0000 - r_square: 0.8653 - val_loss: 1168898432.0000 - val_r_square: 0.8476\n",
      "Epoch 81/150\n",
      "73/73 [==============================] - 0s 2ms/step - loss: 800332672.0000 - r_square: 0.8658 - val_loss: 957297024.0000 - val_r_square: 0.8752\n",
      "Epoch 82/150\n",
      "73/73 [==============================] - 0s 2ms/step - loss: 776232256.0000 - r_square: 0.8699 - val_loss: 958470272.0000 - val_r_square: 0.8750\n",
      "Epoch 83/150\n",
      "73/73 [==============================] - 0s 2ms/step - loss: 727835776.0000 - r_square: 0.8780 - val_loss: 898535168.0000 - val_r_square: 0.8829\n",
      "Epoch 84/150\n",
      "73/73 [==============================] - 0s 2ms/step - loss: 741886016.0000 - r_square: 0.8756 - val_loss: 917707840.0000 - val_r_square: 0.8804\n",
      "Epoch 85/150\n",
      "73/73 [==============================] - 0s 2ms/step - loss: 757846208.0000 - r_square: 0.8729 - val_loss: 885930880.0000 - val_r_square: 0.8845\n",
      "Epoch 86/150\n",
      "73/73 [==============================] - 0s 2ms/step - loss: 693208768.0000 - r_square: 0.8838 - val_loss: 890702400.0000 - val_r_square: 0.8839\n",
      "Epoch 87/150\n",
      "73/73 [==============================] - 0s 2ms/step - loss: 650638016.0000 - r_square: 0.8909 - val_loss: 922249408.0000 - val_r_square: 0.8798\n",
      "Epoch 88/150\n",
      "73/73 [==============================] - 0s 2ms/step - loss: 797977216.0000 - r_square: 0.8662 - val_loss: 866174976.0000 - val_r_square: 0.8871\n",
      "Epoch 89/150\n",
      "73/73 [==============================] - 0s 2ms/step - loss: 724767872.0000 - r_square: 0.8785 - val_loss: 1085398144.0000 - val_r_square: 0.8585\n",
      "Epoch 90/150\n",
      "73/73 [==============================] - 0s 2ms/step - loss: 657262336.0000 - r_square: 0.8898 - val_loss: 940727360.0000 - val_r_square: 0.8774\n",
      "Epoch 91/150\n",
      "73/73 [==============================] - 0s 2ms/step - loss: 657475584.0000 - r_square: 0.8898 - val_loss: 910193408.0000 - val_r_square: 0.8813\n",
      "Epoch 92/150\n",
      "73/73 [==============================] - 0s 2ms/step - loss: 592718528.0000 - r_square: 0.9006 - val_loss: 887956480.0000 - val_r_square: 0.8842\n",
      "Epoch 93/150\n",
      "73/73 [==============================] - 0s 3ms/step - loss: 679383424.0000 - r_square: 0.8861 - val_loss: 951386880.0000 - val_r_square: 0.8760\n",
      "Epoch 94/150\n",
      "73/73 [==============================] - 0s 2ms/step - loss: 658830464.0000 - r_square: 0.8895 - val_loss: 894376384.0000 - val_r_square: 0.8834\n",
      "Epoch 95/150\n",
      "73/73 [==============================] - 0s 2ms/step - loss: 650385664.0000 - r_square: 0.8910 - val_loss: 929789824.0000 - val_r_square: 0.8788\n",
      "Epoch 96/150\n",
      "73/73 [==============================] - 0s 2ms/step - loss: 633952704.0000 - r_square: 0.8937 - val_loss: 1026392768.0000 - val_r_square: 0.8662\n",
      "Epoch 97/150\n",
      "73/73 [==============================] - 0s 2ms/step - loss: 739572416.0000 - r_square: 0.8760 - val_loss: 1102996352.0000 - val_r_square: 0.8562\n",
      "Epoch 98/150\n",
      "73/73 [==============================] - 0s 2ms/step - loss: 739489984.0000 - r_square: 0.8760 - val_loss: 908939520.0000 - val_r_square: 0.8815\n",
      "Epoch 99/150\n",
      "73/73 [==============================] - 0s 2ms/step - loss: 578974208.0000 - r_square: 0.9029 - val_loss: 910935424.0000 - val_r_square: 0.8812\n",
      "Epoch 100/150\n",
      "73/73 [==============================] - 0s 2ms/step - loss: 647696960.0000 - r_square: 0.8914 - val_loss: 871329152.0000 - val_r_square: 0.8864\n",
      "Epoch 101/150\n",
      "73/73 [==============================] - 0s 2ms/step - loss: 650767360.0000 - r_square: 0.8909 - val_loss: 846356928.0000 - val_r_square: 0.8897\n",
      "Epoch 102/150\n",
      "73/73 [==============================] - 0s 2ms/step - loss: 586217344.0000 - r_square: 0.9017 - val_loss: 959312576.0000 - val_r_square: 0.8749\n",
      "Epoch 103/150\n",
      "73/73 [==============================] - 0s 2ms/step - loss: 568390336.0000 - r_square: 0.9047 - val_loss: 884464128.0000 - val_r_square: 0.8847\n",
      "Epoch 104/150\n",
      "73/73 [==============================] - 0s 2ms/step - loss: 545794944.0000 - r_square: 0.9085 - val_loss: 868579200.0000 - val_r_square: 0.8868\n",
      "Epoch 105/150\n",
      "73/73 [==============================] - 0s 2ms/step - loss: 587845440.0000 - r_square: 0.9014 - val_loss: 857381376.0000 - val_r_square: 0.8882\n",
      "Epoch 106/150\n",
      "73/73 [==============================] - 0s 2ms/step - loss: 598737600.0000 - r_square: 0.8996 - val_loss: 866942208.0000 - val_r_square: 0.8870\n",
      "Epoch 107/150\n",
      "73/73 [==============================] - 0s 2ms/step - loss: 580961536.0000 - r_square: 0.9026 - val_loss: 1029644544.0000 - val_r_square: 0.8658\n",
      "Epoch 108/150\n",
      "73/73 [==============================] - 0s 2ms/step - loss: 622636032.0000 - r_square: 0.8956 - val_loss: 1021913152.0000 - val_r_square: 0.8668\n",
      "Epoch 109/150\n",
      "73/73 [==============================] - 0s 2ms/step - loss: 543498496.0000 - r_square: 0.9089 - val_loss: 864286336.0000 - val_r_square: 0.8873\n",
      "Epoch 110/150\n",
      "73/73 [==============================] - 0s 2ms/step - loss: 591859648.0000 - r_square: 0.9008 - val_loss: 819923008.0000 - val_r_square: 0.8931\n",
      "Epoch 111/150\n",
      "73/73 [==============================] - 0s 2ms/step - loss: 542346240.0000 - r_square: 0.9091 - val_loss: 873107136.0000 - val_r_square: 0.8862\n",
      "Epoch 112/150\n",
      "73/73 [==============================] - 0s 2ms/step - loss: 550595392.0000 - r_square: 0.9077 - val_loss: 1006803968.0000 - val_r_square: 0.8687\n",
      "Epoch 113/150\n",
      "73/73 [==============================] - 0s 2ms/step - loss: 522664352.0000 - r_square: 0.9124 - val_loss: 806706048.0000 - val_r_square: 0.8948\n",
      "Epoch 114/150\n",
      "73/73 [==============================] - 0s 2ms/step - loss: 596694336.0000 - r_square: 0.9000 - val_loss: 875808256.0000 - val_r_square: 0.8858\n",
      "Epoch 115/150\n",
      "73/73 [==============================] - 0s 2ms/step - loss: 539580224.0000 - r_square: 0.9095 - val_loss: 977516928.0000 - val_r_square: 0.8726\n",
      "Epoch 116/150\n",
      "73/73 [==============================] - 0s 2ms/step - loss: 515466784.0000 - r_square: 0.9136 - val_loss: 820466944.0000 - val_r_square: 0.8930\n",
      "Epoch 117/150\n",
      "73/73 [==============================] - 0s 2ms/step - loss: 549763520.0000 - r_square: 0.9078 - val_loss: 973293440.0000 - val_r_square: 0.8731\n",
      "Epoch 118/150\n",
      "73/73 [==============================] - 0s 2ms/step - loss: 521144288.0000 - r_square: 0.9126 - val_loss: 827068544.0000 - val_r_square: 0.8922\n",
      "Epoch 119/150\n",
      "73/73 [==============================] - 0s 2ms/step - loss: 505853920.0000 - r_square: 0.9152 - val_loss: 870211648.0000 - val_r_square: 0.8865\n",
      "Epoch 120/150\n",
      "73/73 [==============================] - 0s 2ms/step - loss: 587750272.0000 - r_square: 0.9015 - val_loss: 793445760.0000 - val_r_square: 0.8966\n",
      "Epoch 121/150\n",
      "73/73 [==============================] - 0s 2ms/step - loss: 523707648.0000 - r_square: 0.9122 - val_loss: 872242368.0000 - val_r_square: 0.8863\n",
      "Epoch 122/150\n",
      "73/73 [==============================] - 0s 2ms/step - loss: 503132736.0000 - r_square: 0.9156 - val_loss: 820678144.0000 - val_r_square: 0.8930\n",
      "Epoch 123/150\n",
      "73/73 [==============================] - 0s 2ms/step - loss: 539643776.0000 - r_square: 0.9095 - val_loss: 814189888.0000 - val_r_square: 0.8939\n",
      "Epoch 124/150\n",
      "73/73 [==============================] - 0s 2ms/step - loss: 549835904.0000 - r_square: 0.9078 - val_loss: 818290688.0000 - val_r_square: 0.8933\n",
      "Epoch 125/150\n",
      "73/73 [==============================] - 0s 2ms/step - loss: 561527936.0000 - r_square: 0.9059 - val_loss: 834536576.0000 - val_r_square: 0.8912\n",
      "Epoch 126/150\n",
      "73/73 [==============================] - 0s 2ms/step - loss: 494412288.0000 - r_square: 0.9171 - val_loss: 807850752.0000 - val_r_square: 0.8947\n",
      "Epoch 127/150\n",
      "73/73 [==============================] - 0s 2ms/step - loss: 486318592.0000 - r_square: 0.9185 - val_loss: 813925184.0000 - val_r_square: 0.8939\n",
      "Epoch 128/150\n",
      "73/73 [==============================] - 0s 2ms/step - loss: 481492640.0000 - r_square: 0.9193 - val_loss: 781125952.0000 - val_r_square: 0.8982\n",
      "Epoch 129/150\n",
      "73/73 [==============================] - 0s 2ms/step - loss: 640955776.0000 - r_square: 0.8925 - val_loss: 795855232.0000 - val_r_square: 0.8962\n",
      "Epoch 130/150\n",
      "73/73 [==============================] - 0s 2ms/step - loss: 483440896.0000 - r_square: 0.9189 - val_loss: 907874752.0000 - val_r_square: 0.8816\n",
      "Epoch 131/150\n",
      "73/73 [==============================] - 0s 2ms/step - loss: 526780736.0000 - r_square: 0.9117 - val_loss: 905257280.0000 - val_r_square: 0.8820\n",
      "Epoch 132/150\n",
      "73/73 [==============================] - 0s 2ms/step - loss: 525149408.0000 - r_square: 0.9120 - val_loss: 752278656.0000 - val_r_square: 0.9019\n",
      "Epoch 133/150\n",
      "73/73 [==============================] - 0s 2ms/step - loss: 483140928.0000 - r_square: 0.9190 - val_loss: 824647680.0000 - val_r_square: 0.8925\n",
      "Epoch 134/150\n",
      "73/73 [==============================] - 0s 2ms/step - loss: 553937792.0000 - r_square: 0.9071 - val_loss: 920928768.0000 - val_r_square: 0.8799\n",
      "Epoch 135/150\n",
      "73/73 [==============================] - 0s 2ms/step - loss: 527810272.0000 - r_square: 0.9115 - val_loss: 827945792.0000 - val_r_square: 0.8921\n",
      "Epoch 136/150\n",
      "73/73 [==============================] - 0s 2ms/step - loss: 470889024.0000 - r_square: 0.9211 - val_loss: 780396992.0000 - val_r_square: 0.8983\n",
      "Epoch 137/150\n",
      "73/73 [==============================] - 0s 2ms/step - loss: 459106656.0000 - r_square: 0.9230 - val_loss: 830962112.0000 - val_r_square: 0.8917\n",
      "Epoch 138/150\n",
      "73/73 [==============================] - 0s 2ms/step - loss: 470034304.0000 - r_square: 0.9212 - val_loss: 836126912.0000 - val_r_square: 0.8910\n",
      "Epoch 139/150\n",
      "73/73 [==============================] - 0s 2ms/step - loss: 453210848.0000 - r_square: 0.9240 - val_loss: 852417856.0000 - val_r_square: 0.8889\n",
      "Epoch 140/150\n",
      "73/73 [==============================] - 0s 2ms/step - loss: 451062592.0000 - r_square: 0.9244 - val_loss: 826097408.0000 - val_r_square: 0.8923\n",
      "Epoch 141/150\n",
      "73/73 [==============================] - 0s 2ms/step - loss: 467800736.0000 - r_square: 0.9216 - val_loss: 818476672.0000 - val_r_square: 0.8933\n",
      "Epoch 142/150\n",
      "73/73 [==============================] - 0s 2ms/step - loss: 464850464.0000 - r_square: 0.9221 - val_loss: 827515712.0000 - val_r_square: 0.8921\n",
      "Epoch 143/150\n",
      "73/73 [==============================] - 0s 2ms/step - loss: 466540800.0000 - r_square: 0.9218 - val_loss: 768974336.0000 - val_r_square: 0.8997\n",
      "Epoch 144/150\n",
      "73/73 [==============================] - 0s 2ms/step - loss: 469969088.0000 - r_square: 0.9212 - val_loss: 827021312.0000 - val_r_square: 0.8922\n",
      "Epoch 145/150\n",
      "73/73 [==============================] - 0s 2ms/step - loss: 524916192.0000 - r_square: 0.9120 - val_loss: 810346496.0000 - val_r_square: 0.8944\n",
      "Epoch 146/150\n",
      "73/73 [==============================] - 0s 2ms/step - loss: 445865504.0000 - r_square: 0.9252 - val_loss: 773711488.0000 - val_r_square: 0.8991\n",
      "Epoch 147/150\n",
      "73/73 [==============================] - 0s 2ms/step - loss: 478784032.0000 - r_square: 0.9197 - val_loss: 883648256.0000 - val_r_square: 0.8848\n",
      "Epoch 148/150\n",
      "73/73 [==============================] - 0s 2ms/step - loss: 504622080.0000 - r_square: 0.9154 - val_loss: 1038370688.0000 - val_r_square: 0.8646\n",
      "Epoch 149/150\n",
      "73/73 [==============================] - 0s 2ms/step - loss: 456398944.0000 - r_square: 0.9235 - val_loss: 819277056.0000 - val_r_square: 0.8932\n",
      "Epoch 150/150\n",
      "73/73 [==============================] - 0s 2ms/step - loss: 492406144.0000 - r_square: 0.9174 - val_loss: 784555328.0000 - val_r_square: 0.8977\n"
     ]
    },
    {
     "data": {
      "text/plain": [
       "<keras.callbacks.History at 0x7c851d5d8e80>"
      ]
     },
     "execution_count": 26,
     "metadata": {},
     "output_type": "execute_result"
    }
   ],
   "source": [
    "import tensorflow as tf\n",
    "from keras.layers import Dense\n",
    "from keras.models import Sequential\n",
    "from keras.callbacks import EarlyStopping\n",
    "from keras.optimizers import Adam, SGD\n",
    "from keras.utils import set_random_seed\n",
    "from tensorflow_addons.metrics import RSquare\n",
    "\n",
    "set_random_seed(42)\n",
    "\n",
    "nn_model =  Sequential()\n",
    "\n",
    "nn_model.add(Dense(128, input_shape=(X_train.shape[1],), \n",
    "                   activation='relu'))\n",
    "\n",
    "nn_model.add(Dense(128, activation='relu'))\n",
    "\n",
    "nn_model.add(Dense(128, activation='relu'))\n",
    "\n",
    "nn_model.add(Dense(1))\n",
    "\n",
    "early_stop = EarlyStopping(monitor='val_loss',\n",
    "                           mode='min',\n",
    "                           verbose=1,\n",
    "                           patience=25)\n",
    "\n",
    "nn_model.compile(optimizer='adam', \n",
    "              loss='mean_squared_error', \n",
    "              metrics=[RSquare()])\n",
    "nn_model.fit(X_train, y_train, \n",
    "          epochs=150, \n",
    "          batch_size=16, \n",
    "          callbacks=[early_stop],\n",
    "          validation_data=(X_val, y_val))"
   ]
  },
  {
   "cell_type": "code",
   "execution_count": 27,
   "id": "6137ef83",
   "metadata": {
    "execution": {
     "iopub.execute_input": "2023-06-27T02:33:27.953308Z",
     "iopub.status.busy": "2023-06-27T02:33:27.952681Z",
     "iopub.status.idle": "2023-06-27T02:33:28.281646Z",
     "shell.execute_reply": "2023-06-27T02:33:28.280547Z"
    },
    "papermill": {
     "duration": 0.374122,
     "end_time": "2023-06-27T02:33:28.283470",
     "exception": false,
     "start_time": "2023-06-27T02:33:27.909348",
     "status": "completed"
    },
    "tags": []
   },
   "outputs": [
    {
     "data": {
      "text/plain": [
       "<Axes: >"
      ]
     },
     "execution_count": 27,
     "metadata": {},
     "output_type": "execute_result"
    },
    {
     "data": {
      "image/png": "[encoded data removed]",
      "text/plain": [
       "<Figure size 640x480 with 1 Axes>"
      ]
     },
     "metadata": {},
     "output_type": "display_data"
    }
   ],
   "source": [
    "pd.DataFrame(nn_model.history.history)[['loss','val_loss']].plot()"
   ]
  },
  {
   "cell_type": "code",
   "execution_count": 28,
   "id": "581e372e",
   "metadata": {
    "execution": {
     "iopub.execute_input": "2023-06-27T02:33:28.370095Z",
     "iopub.status.busy": "2023-06-27T02:33:28.369744Z",
     "iopub.status.idle": "2023-06-27T02:33:28.472930Z",
     "shell.execute_reply": "2023-06-27T02:33:28.472006Z"
    },
    "papermill": {
     "duration": 0.148588,
     "end_time": "2023-06-27T02:33:28.474783",
     "exception": false,
     "start_time": "2023-06-27T02:33:28.326195",
     "status": "completed"
    },
    "tags": []
   },
   "outputs": [
    {
     "name": "stdout",
     "output_type": "stream",
     "text": [
      "10/10 [==============================] - 0s 1ms/step - loss: 784555328.0000 - r_square: 0.8977\n"
     ]
    },
    {
     "data": {
      "text/plain": [
       "[784555328.0, 0.8977154493331909]"
      ]
     },
     "execution_count": 28,
     "metadata": {},
     "output_type": "execute_result"
    }
   ],
   "source": [
    "nn_model.evaluate(X_val, y_val)"
   ]
  },
  {
   "cell_type": "code",
   "execution_count": 29,
   "id": "2db54d20",
   "metadata": {
    "execution": {
     "iopub.execute_input": "2023-06-27T02:33:28.562086Z",
     "iopub.status.busy": "2023-06-27T02:33:28.561752Z",
     "iopub.status.idle": "2023-06-27T02:33:28.765583Z",
     "shell.execute_reply": "2023-06-27T02:33:28.764361Z"
    },
    "papermill": {
     "duration": 0.249865,
     "end_time": "2023-06-27T02:33:28.767540",
     "exception": false,
     "start_time": "2023-06-27T02:33:28.517675",
     "status": "completed"
    },
    "tags": []
   },
   "outputs": [
    {
     "name": "stdout",
     "output_type": "stream",
     "text": [
      "10/10 [==============================] - 0s 1ms/step\n",
      "R2 Score: 0.89771549193816\n",
      "Mean Absolude Error: 17740.381180436645\n",
      "Mean Square Error: 784555542.7759744\n",
      "Root Mean Square Error: 28009.918649934963\n"
     ]
    }
   ],
   "source": [
    "y_pred=nn_model.predict(X_val)\n",
    "print('R2 Score:',r2_score(y_true=y_val, y_pred=y_pred))\n",
    "print('Mean Absolude Error:',mean_absolute_error(y_true=y_val, y_pred=y_pred))\n",
    "print('Mean Square Error:',mean_squared_error(y_true=y_val, y_pred=y_pred))\n",
    "print('Root Mean Square Error:',mean_squared_error(y_true=y_val, y_pred=y_pred, squared=False))"
   ]
  },
  {
   "cell_type": "code",
   "execution_count": 30,
   "id": "d5cc152f",
   "metadata": {
    "execution": {
     "iopub.execute_input": "2023-06-27T02:33:28.855274Z",
     "iopub.status.busy": "2023-06-27T02:33:28.854923Z",
     "iopub.status.idle": "2023-06-27T02:33:29.011729Z",
     "shell.execute_reply": "2023-06-27T02:33:29.010726Z"
    },
    "papermill": {
     "duration": 0.203144,
     "end_time": "2023-06-27T02:33:29.014043",
     "exception": false,
     "start_time": "2023-06-27T02:33:28.810899",
     "status": "completed"
    },
    "tags": []
   },
   "outputs": [
    {
     "name": "stdout",
     "output_type": "stream",
     "text": [
      "46/46 [==============================] - 0s 814us/step\n",
      "        Id      SalePrice\n",
      "0     1461  118316.867188\n",
      "1     1462  115677.476562\n",
      "2     1463  194055.921875\n",
      "3     1464  193506.078125\n",
      "4     1465  171570.734375\n",
      "...    ...            ...\n",
      "1454  2915   88304.453125\n",
      "1455  2916   98760.632812\n",
      "1456  2917  178496.718750\n",
      "1457  2918   84945.625000\n",
      "1458  2919  222671.218750\n",
      "\n",
      "[1459 rows x 2 columns]\n"
     ]
    }
   ],
   "source": [
    "sample_submission['Id'] = test.reset_index()['Id']\n",
    "sample_submission.SalePrice = nn_model.predict(X_test)\n",
    "sample_submission.set_index('Id').to_csv('submissionNN.csv')\n",
    "print(sample_submission)"
   ]
  }
 ],
 "metadata": {
  "kernelspec": {
   "display_name": "Python 3",
   "language": "python",
   "name": "python3"
  },
  "language_info": {
   "codemirror_mode": {
    "name": "ipython",
    "version": 3
   },
   "file_extension": ".py",
   "mimetype": "text/x-python",
   "name": "python",
   "nbconvert_exporter": "python",
   "pygments_lexer": "ipython3",
   "version": "3.10.10"
  },
  "papermill": {
   "default_parameters": {},
   "duration": 75.297836,
   "end_time": "2023-06-27T02:33:32.259030",
   "environment_variables": {},
   "exception": null,
   "input_path": "__notebook__.ipynb",
   "output_path": "__notebook__.ipynb",
   "parameters": {},
   "start_time": "2023-06-27T02:32:16.961194",
   "version": "2.4.0"
  }
 },
 "nbformat": 4,
 "nbformat_minor": 5
}
